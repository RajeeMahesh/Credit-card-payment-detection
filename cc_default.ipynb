{
  "nbformat": 4,
  "nbformat_minor": 0,
  "metadata": {
    "colab": {
      "name": "cc_default",
      "provenance": [],
      "collapsed_sections": []
    },
    "kernelspec": {
      "name": "python3",
      "display_name": "Python 3"
    },
    "language_info": {
      "name": "python"
    }
  },
  "cells": [
    {
      "cell_type": "code",
      "execution_count": null,
      "metadata": {
        "colab": {
          "resources": {
            "http://localhost:8080/nbextensions/google.colab/files.js": {
              "data": "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",
              "ok": true,
              "headers": [
                [
                  "content-type",
                  "application/javascript"
                ]
              ],
              "status": 200,
              "status_text": ""
            }
          },
          "base_uri": "https://localhost:8080/",
          "height": 74
        },
        "id": "G2RBixSiodh6",
        "outputId": "a7b5447a-6959-48ed-e600-59bbf5160a71"
      },
      "outputs": [
        {
          "output_type": "display_data",
          "data": {
            "text/html": [
              "\n",
              "     <input type=\"file\" id=\"files-54548e18-e2d7-48dd-a0a1-40b829f5385b\" name=\"files[]\" multiple disabled\n",
              "        style=\"border:none\" />\n",
              "     <output id=\"result-54548e18-e2d7-48dd-a0a1-40b829f5385b\">\n",
              "      Upload widget is only available when the cell has been executed in the\n",
              "      current browser session. Please rerun this cell to enable.\n",
              "      </output>\n",
              "      <script src=\"/nbextensions/google.colab/files.js\"></script> "
            ],
            "text/plain": [
              "<IPython.core.display.HTML object>"
            ]
          },
          "metadata": {}
        },
        {
          "output_type": "stream",
          "name": "stdout",
          "text": [
            "Saving card_public_data.xlsx to card_public_data.xlsx\n"
          ]
        }
      ],
      "source": [
        "from google.colab import files\n",
        "  \n",
        "  \n",
        "uploaded = files.upload()"
      ]
    },
    {
      "cell_type": "code",
      "source": [
        "!pip install shap"
      ],
      "metadata": {
        "id": "9BdQOEm34TXs"
      },
      "execution_count": null,
      "outputs": []
    },
    {
      "cell_type": "code",
      "source": [
        "from sklearn.model_selection import StratifiedKFold\n",
        "from sklearn.ensemble import RandomForestClassifier\n",
        "from sklearn.svm import SVC\n",
        "from sklearn.linear_model import LogisticRegression\n",
        "from sklearn import metrics \n",
        "from sklearn.metrics import classification_report, confusion_matrix\n",
        "from sklearn.model_selection import cross_val_score\n",
        "from sklearn.model_selection import train_test_split\n",
        "from sklearn.model_selection import KFold\n",
        "from matplotlib import pyplot as pt\n",
        "from sklearn.preprocessing import OneHotEncoder\n",
        "from sklearn.model_selection import train_test_split \n",
        "from sklearn.preprocessing import StandardScaler\n",
        "import xgboost as xgb\n",
        "from xgboost import XGBClassifier\n",
        "import numpy as np\n",
        "import pandas as pd\n",
        "import seaborn as sns\n",
        "import shap\n",
        "import io"
      ],
      "metadata": {
        "id": "TnaIcbcKojh2"
      },
      "execution_count": null,
      "outputs": []
    },
    {
      "cell_type": "code",
      "source": [
        "data_set = pd.read_excel(io.BytesIO(uploaded['card_public_data.xlsx']))\n",
        "data_set.head()"
      ],
      "metadata": {
        "colab": {
          "base_uri": "https://localhost:8080/",
          "height": 278
        },
        "id": "BJgH8AW0ol8t",
        "outputId": "9e1870e3-41a9-4614-fdc4-69289a24caaa"
      },
      "execution_count": null,
      "outputs": [
        {
          "output_type": "execute_result",
          "data": {
            "text/html": [
              "<div>\n",
              "<style scoped>\n",
              "    .dataframe tbody tr th:only-of-type {\n",
              "        vertical-align: middle;\n",
              "    }\n",
              "\n",
              "    .dataframe tbody tr th {\n",
              "        vertical-align: top;\n",
              "    }\n",
              "\n",
              "    .dataframe thead th {\n",
              "        text-align: right;\n",
              "    }\n",
              "</style>\n",
              "<table border=\"1\" class=\"dataframe\">\n",
              "  <thead>\n",
              "    <tr style=\"text-align: right;\">\n",
              "      <th></th>\n",
              "      <th>LIMIT_BAL</th>\n",
              "      <th>SEX</th>\n",
              "      <th>EDUCATION</th>\n",
              "      <th>MARRIAGE</th>\n",
              "      <th>AGE</th>\n",
              "      <th>PAY_0</th>\n",
              "      <th>PAY_2</th>\n",
              "      <th>PAY_3</th>\n",
              "      <th>PAY_4</th>\n",
              "      <th>PAY_5</th>\n",
              "      <th>PAY_6</th>\n",
              "      <th>BILL_AMT1</th>\n",
              "      <th>BILL_AMT2</th>\n",
              "      <th>BILL_AMT3</th>\n",
              "      <th>BILL_AMT4</th>\n",
              "      <th>BILL_AMT5</th>\n",
              "      <th>BILL_AMT6</th>\n",
              "      <th>PAY_AMT1</th>\n",
              "      <th>PAY_AMT2</th>\n",
              "      <th>PAY_AMT3</th>\n",
              "      <th>PAY_AMT4</th>\n",
              "      <th>PAY_AMT5</th>\n",
              "      <th>PAY_AMT6</th>\n",
              "      <th>default payment next month</th>\n",
              "    </tr>\n",
              "  </thead>\n",
              "  <tbody>\n",
              "    <tr>\n",
              "      <th>0</th>\n",
              "      <td>10000</td>\n",
              "      <td>1</td>\n",
              "      <td>2</td>\n",
              "      <td>2</td>\n",
              "      <td>45</td>\n",
              "      <td>-1</td>\n",
              "      <td>-1</td>\n",
              "      <td>0</td>\n",
              "      <td>0</td>\n",
              "      <td>0</td>\n",
              "      <td>0</td>\n",
              "      <td>492</td>\n",
              "      <td>9017</td>\n",
              "      <td>9787</td>\n",
              "      <td>9897</td>\n",
              "      <td>9707</td>\n",
              "      <td>-173</td>\n",
              "      <td>10300</td>\n",
              "      <td>1000</td>\n",
              "      <td>500</td>\n",
              "      <td>200</td>\n",
              "      <td>0</td>\n",
              "      <td>10200</td>\n",
              "      <td>0</td>\n",
              "    </tr>\n",
              "    <tr>\n",
              "      <th>1</th>\n",
              "      <td>60000</td>\n",
              "      <td>2</td>\n",
              "      <td>2</td>\n",
              "      <td>2</td>\n",
              "      <td>26</td>\n",
              "      <td>0</td>\n",
              "      <td>0</td>\n",
              "      <td>0</td>\n",
              "      <td>0</td>\n",
              "      <td>0</td>\n",
              "      <td>0</td>\n",
              "      <td>56146</td>\n",
              "      <td>56929</td>\n",
              "      <td>55009</td>\n",
              "      <td>30181</td>\n",
              "      <td>41528</td>\n",
              "      <td>21069</td>\n",
              "      <td>2314</td>\n",
              "      <td>1459</td>\n",
              "      <td>914</td>\n",
              "      <td>1900</td>\n",
              "      <td>800</td>\n",
              "      <td>932</td>\n",
              "      <td>0</td>\n",
              "    </tr>\n",
              "    <tr>\n",
              "      <th>2</th>\n",
              "      <td>70000</td>\n",
              "      <td>2</td>\n",
              "      <td>1</td>\n",
              "      <td>2</td>\n",
              "      <td>34</td>\n",
              "      <td>2</td>\n",
              "      <td>2</td>\n",
              "      <td>2</td>\n",
              "      <td>2</td>\n",
              "      <td>2</td>\n",
              "      <td>2</td>\n",
              "      <td>43357</td>\n",
              "      <td>44347</td>\n",
              "      <td>43357</td>\n",
              "      <td>46626</td>\n",
              "      <td>47562</td>\n",
              "      <td>48651</td>\n",
              "      <td>2000</td>\n",
              "      <td>0</td>\n",
              "      <td>4000</td>\n",
              "      <td>2000</td>\n",
              "      <td>2000</td>\n",
              "      <td>2000</td>\n",
              "      <td>1</td>\n",
              "    </tr>\n",
              "    <tr>\n",
              "      <th>3</th>\n",
              "      <td>170000</td>\n",
              "      <td>2</td>\n",
              "      <td>1</td>\n",
              "      <td>1</td>\n",
              "      <td>35</td>\n",
              "      <td>-1</td>\n",
              "      <td>-1</td>\n",
              "      <td>-1</td>\n",
              "      <td>-1</td>\n",
              "      <td>-1</td>\n",
              "      <td>-1</td>\n",
              "      <td>736</td>\n",
              "      <td>316</td>\n",
              "      <td>1970</td>\n",
              "      <td>1132</td>\n",
              "      <td>1132</td>\n",
              "      <td>1397</td>\n",
              "      <td>1289</td>\n",
              "      <td>1970</td>\n",
              "      <td>1132</td>\n",
              "      <td>1132</td>\n",
              "      <td>1397</td>\n",
              "      <td>1397</td>\n",
              "      <td>0</td>\n",
              "    </tr>\n",
              "    <tr>\n",
              "      <th>4</th>\n",
              "      <td>80000</td>\n",
              "      <td>2</td>\n",
              "      <td>2</td>\n",
              "      <td>2</td>\n",
              "      <td>26</td>\n",
              "      <td>0</td>\n",
              "      <td>0</td>\n",
              "      <td>0</td>\n",
              "      <td>2</td>\n",
              "      <td>0</td>\n",
              "      <td>0</td>\n",
              "      <td>77037</td>\n",
              "      <td>71799</td>\n",
              "      <td>75743</td>\n",
              "      <td>67626</td>\n",
              "      <td>69081</td>\n",
              "      <td>70772</td>\n",
              "      <td>3300</td>\n",
              "      <td>5800</td>\n",
              "      <td>0</td>\n",
              "      <td>2700</td>\n",
              "      <td>3000</td>\n",
              "      <td>2700</td>\n",
              "      <td>0</td>\n",
              "    </tr>\n",
              "  </tbody>\n",
              "</table>\n",
              "</div>"
            ],
            "text/plain": [
              "   LIMIT_BAL  SEX  EDUCATION  ...  PAY_AMT5  PAY_AMT6  default payment next month\n",
              "0      10000    1          2  ...         0     10200                           0\n",
              "1      60000    2          2  ...       800       932                           0\n",
              "2      70000    2          1  ...      2000      2000                           1\n",
              "3     170000    2          1  ...      1397      1397                           0\n",
              "4      80000    2          2  ...      3000      2700                           0\n",
              "\n",
              "[5 rows x 24 columns]"
            ]
          },
          "metadata": {},
          "execution_count": 132
        }
      ]
    },
    {
      "cell_type": "code",
      "source": [
        "data_set = data_set.rename(columns = {'default payment next month': 'def_next_month'})"
      ],
      "metadata": {
        "id": "oQ1eRCILpqVG"
      },
      "execution_count": null,
      "outputs": []
    },
    {
      "cell_type": "code",
      "source": [
        "fraud = data.loc[data['def_next_month']==1]\n",
        "non_fraud = data.loc[data['is_frdef_next_month']==0]"
      ],
      "metadata": {
        "id": "StrAw03UAxzr"
      },
      "execution_count": null,
      "outputs": []
    },
    {
      "cell_type": "code",
      "source": [
        "#@title Assignment-1 { form-width: \"30%\" }\n",
        "data_set['SEX'].replace(2,'Female',inplace=True)\n",
        "data_set['SEX'].replace(1,'Male',inplace=True)\n",
        "\n",
        "data_set['def_next_month'].replace(1,'Yes',inplace=True)\n",
        "data_set['def_next_month'].replace(0,'No',inplace=True)\n",
        "\n",
        "data_set.EDUCATION.unique()"
      ],
      "metadata": {
        "colab": {
          "base_uri": "https://localhost:8080/"
        },
        "id": "00g3IxwloukH",
        "outputId": "1ae328c4-0075-4a55-f6a8-03aef25b048e"
      },
      "execution_count": null,
      "outputs": [
        {
          "output_type": "execute_result",
          "data": {
            "text/plain": [
              "array(['Univ', 'Grad', 'high_sch', 'others'], dtype=object)"
            ]
          },
          "metadata": {},
          "execution_count": 13
        }
      ]
    },
    {
      "cell_type": "code",
      "source": [
        "#@title Ass1 { form-width: \"5%\" }\n",
        "data_set['EDUCATION'].replace(1,'Grad',inplace=True)\n",
        "data_set['EDUCATION'].replace(2,'Univ',inplace=True)\n",
        "data_set['EDUCATION'].replace(3,'high_sch',inplace=True)\n",
        "data_set['EDUCATION'].replace(4,'others',inplace=True)\n",
        "data_set['EDUCATION'].replace(5,'others',inplace=True)\n",
        "data_set['EDUCATION'].replace(6,'others',inplace=True)\n",
        "data_set['EDUCATION'].replace(0,'others',inplace=True)\n",
        "\n",
        "data_set.EDUCATION"
      ],
      "metadata": {
        "id": "5VjvmaSrpFNO"
      },
      "execution_count": null,
      "outputs": []
    },
    {
      "cell_type": "code",
      "source": [
        "#@title Assignment-1 { form-width: \"5%\" }\n",
        "#Exploratory Data Analysis 1 \n",
        "\n",
        "fig,ax = pt.subplots(1,1)\n",
        "mark = data_set.LIMIT_BAL\n",
        "ax.hist(mark, bins = [0,100000,200000,300000,400000,500000,600000,700000,800000],edgecolor=\"yellow\", color=\"blue\")\n",
        "ax.set_xticklabels(['0','100','200','300','400','500','600','700','800'])\n",
        "ax.set_title(\"Histogram of Range of Limit sactioned\")\n",
        "ax.set_xlabel(\"Credit amount sanctioned (in thousands)\")\n",
        "ax.set_ylabel('No. of credit card sanctioned')\n",
        "pt.show()"
      ],
      "metadata": {
        "colab": {
          "base_uri": "https://localhost:8080/",
          "height": 295
        },
        "id": "PME9fNrvpOs0",
        "outputId": "c964246e-fe1b-4447-db37-ab249da246cc"
      },
      "execution_count": null,
      "outputs": [
        {
          "output_type": "display_data",
          "data": {
            "image/png": "[encoded data removed]",
            "text/plain": [
              "<Figure size 432x288 with 1 Axes>"
            ]
          },
          "metadata": {
            "needs_background": "light"
          }
        }
      ]
    },
    {
      "cell_type": "code",
      "source": [
        "fig, axes = pt.subplots(nrows=2, ncols=2)\n",
        "#fig.tight_layout()\n",
        "\n",
        "pt.suptitle('Count of sanctions and defaults - Gender wise and Education Wise')\n",
        "x = data_set.SEX\n",
        "pt.subplot(2,2,1)\n",
        "sns.countplot(x=x, data=data_set)\n",
        "#ax1 = fig.add_subplot(ax[1:, 0:2])\n",
        "\n",
        "x = data_set.EDUCATION\n",
        "pt.subplot(2,2,2)\n",
        "sns.countplot(x=x, data=data_set)\n",
        "\n",
        "x = data_set.SEX\n",
        "y = data_set.def_next_month\n",
        "pt.subplot(2,2,3)\n",
        "sns.countplot(x=x,hue=y,data=data_set)\n",
        "pt.legend(loc='upper left', title='default')\n",
        "\n",
        "x = data_set.EDUCATION\n",
        "y = data_set.def_next_month\n",
        "pt.subplot(2,2,4)\n",
        "sns.countplot(x=x, hue=y, data=data_set)\n",
        "pt.legend(loc='upper right', title='default')\n",
        "\n",
        "pt.subplots_adjust(left=0.1,\n",
        "                    bottom=0.1, \n",
        "                    right=0.9, \n",
        "                    top=0.9, \n",
        "                    wspace=0.4, \n",
        "                    hspace=0.4)\n",
        "\n",
        "pt.show()"
      ],
      "metadata": {
        "colab": {
          "base_uri": "https://localhost:8080/",
          "height": 316
        },
        "id": "ye_pQvXBpUln",
        "outputId": "51accffb-37b0-4780-f7a3-a9cc1265764a"
      },
      "execution_count": null,
      "outputs": [
        {
          "output_type": "display_data",
          "data": {
            "image/png": "[encoded data removed]",
            "text/plain": [
              "<Figure size 432x288 with 4 Axes>"
            ]
          },
          "metadata": {
            "needs_background": "light"
          }
        }
      ]
    },
    {
      "cell_type": "code",
      "source": [
        "data_set.columns"
      ],
      "metadata": {
        "colab": {
          "base_uri": "https://localhost:8080/"
        },
        "id": "8U67QfmdqCkk",
        "outputId": "4b75a7e3-878e-4cc4-ef17-824597f72a2c"
      },
      "execution_count": null,
      "outputs": [
        {
          "output_type": "execute_result",
          "data": {
            "text/plain": [
              "Index(['LIMIT_BAL', 'SEX', 'EDUCATION', 'MARRIAGE', 'AGE', 'PAY_0', 'PAY_2',\n",
              "       'PAY_3', 'PAY_4', 'PAY_5', 'PAY_6', 'BILL_AMT1', 'BILL_AMT2',\n",
              "       'BILL_AMT3', 'BILL_AMT4', 'BILL_AMT5', 'BILL_AMT6', 'PAY_AMT1',\n",
              "       'PAY_AMT2', 'PAY_AMT3', 'PAY_AMT4', 'PAY_AMT5', 'PAY_AMT6',\n",
              "       'def_next_month'],\n",
              "      dtype='object')"
            ]
          },
          "metadata": {},
          "execution_count": 15
        }
      ]
    },
    {
      "cell_type": "code",
      "source": [
        "data_set['LIMIT_trans'] = 1/data_set['LIMIT_BAL']"
      ],
      "metadata": {
        "id": "QhKT4DDap7Kh"
      },
      "execution_count": null,
      "outputs": []
    },
    {
      "cell_type": "code",
      "source": [
        "data_set['LIMIT_trans'].skew()"
      ],
      "metadata": {
        "colab": {
          "base_uri": "https://localhost:8080/"
        },
        "id": "ivhObjk6qO_I",
        "outputId": "da974112-ebe2-4792-ba9b-ce492e05f5ba"
      },
      "execution_count": null,
      "outputs": [
        {
          "output_type": "execute_result",
          "data": {
            "text/plain": [
              "2.7988723317655424"
            ]
          },
          "metadata": {},
          "execution_count": 135
        }
      ]
    },
    {
      "cell_type": "code",
      "source": [
        "ohe = OneHotEncoder()\n",
        "enc = OneHotEncoder()\n",
        "enc_df = pd.DataFrame(enc.fit_transform(data_set[['SEX']]).toarray())\n",
        "enc_df\n",
        "data_set = data_set.join(enc_df)"
      ],
      "metadata": {
        "id": "F3KVrPQZqW3T"
      },
      "execution_count": null,
      "outputs": []
    },
    {
      "cell_type": "code",
      "source": [
        "# assigning meaningful column names to encoded SEX column\n",
        "data_set = data_set.rename(columns={0: 'Male', 1: 'Female'})"
      ],
      "metadata": {
        "id": "5wWfmvqjqdkO"
      },
      "execution_count": null,
      "outputs": []
    },
    {
      "cell_type": "code",
      "source": [
        "data_set['MARRIAGE'].replace({0: 3}, inplace = True)"
      ],
      "metadata": {
        "id": "xB-4t6TUqj6k"
      },
      "execution_count": null,
      "outputs": []
    },
    {
      "cell_type": "code",
      "source": [
        "ohe = OneHotEncoder()\n",
        "enc = OneHotEncoder()\n",
        "enc_df = pd.DataFrame(enc.fit_transform(data_set[['MARRIAGE']]).toarray())\n",
        "enc_df\n",
        "data_set = data_set.join(enc_df)"
      ],
      "metadata": {
        "id": "4yMCrSepqmaM"
      },
      "execution_count": null,
      "outputs": []
    },
    {
      "cell_type": "code",
      "source": [
        "#Assingning meaningful column names \n",
        "data_set = data_set.rename(columns={0:'Married', 1:'Single', 2:'Others', 3:'Others'})"
      ],
      "metadata": {
        "id": "5UqdhYF9qncm"
      },
      "execution_count": null,
      "outputs": []
    },
    {
      "cell_type": "code",
      "source": [
        "data_set['EDUCATION'].replace({0:4, 5:4, 6:4}, inplace = True)"
      ],
      "metadata": {
        "id": "p5LcSVAmq1qZ"
      },
      "execution_count": null,
      "outputs": []
    },
    {
      "cell_type": "code",
      "source": [
        "track_data = pd.DataFrame(data_set.loc[:,['PAY_0','PAY_2','PAY_3','PAY_4','PAY_5','PAY_6']])\n",
        "track_data.head()"
      ],
      "metadata": {
        "id": "dvybh6vBq4FX"
      },
      "execution_count": null,
      "outputs": []
    },
    {
      "cell_type": "code",
      "source": [
        "#Calculating mode across all PAY columns to track his payment dicipline\n",
        "payment_behaviour = track_data.mode(axis='columns', numeric_only=True)\n",
        "payment_behaviour[0].replace({-2:0}, inplace = True)\n",
        "payment_behaviour.head(5)"
      ],
      "metadata": {
        "id": "0qEfil1OrCgB"
      },
      "execution_count": null,
      "outputs": []
    },
    {
      "cell_type": "code",
      "source": [
        "df = [data_set, payment_behaviour]\n",
        "data_set = pd.concat(df, axis=1)"
      ],
      "metadata": {
        "id": "S3TKm1ggrNDB"
      },
      "execution_count": null,
      "outputs": []
    },
    {
      "cell_type": "code",
      "source": [
        "data_set = data_set.rename(columns = {0: 'Payment_behaviour'})"
      ],
      "metadata": {
        "id": "xXxovkdurnh9"
      },
      "execution_count": null,
      "outputs": []
    },
    {
      "cell_type": "code",
      "source": [
        "# Just renaming Bill amt1 and not tranforming it in any way because we are going to predict the default for this bill amount\n",
        "data_set = data_set.rename(columns = {'BILL_AMT1':'Next_month_Bill'})"
      ],
      "metadata": {
        "id": "fauJPJScsULx"
      },
      "execution_count": null,
      "outputs": []
    },
    {
      "cell_type": "code",
      "source": [
        "data_set['billamt_mean'] = (data_set['BILL_AMT2'] + data_set['BILL_AMT3'] + data_set['BILL_AMT4'] + data_set['BILL_AMT5'] + data_set['BILL_AMT6'])/5"
      ],
      "metadata": {
        "id": "VPRJ3qbOseNM"
      },
      "execution_count": null,
      "outputs": []
    },
    {
      "cell_type": "code",
      "source": [
        "#I have created this attribute from analysing that some customers are paying more or less than actual bil amount\n",
        "#Customers who are paying more -> will have adv amount paid for next month usage\n",
        "#Customers who paid less -> have to pay additionally with the next month bill\n",
        "#have created this feature for this 90 day period and previous day period\n",
        "\n",
        "data_set['due_adv'] = data_set['PAY_AMT1'] - data_set['BILL_AMT2']\n",
        "data_set['due_adv_last90'] = data_set['PAY_AMT4'] - data_set['BILL_AMT5']"
      ],
      "metadata": {
        "id": "jJvTVdu3tH0p"
      },
      "execution_count": null,
      "outputs": []
    },
    {
      "cell_type": "code",
      "source": [
        "data_set.columns"
      ],
      "metadata": {
        "id": "mRxFNvrBrVBd"
      },
      "execution_count": null,
      "outputs": []
    },
    {
      "cell_type": "code",
      "source": [
        "data_set['LIMIT_BAL'] = np.where((data_set['LIMIT_BAL']<=50000), 1, data_set['LIMIT_BAL'])\n",
        "data_set['LIMIT_BAL'] = np.where(((data_set['LIMIT_BAL']>50000)&(data_set['LIMIT_BAL']<=100000)), 2, data_set['LIMIT_BAL'])\n",
        "data_set['LIMIT_BAL'] = np.where(((data_set['LIMIT_BAL']>100000)&(data_set['LIMIT_BAL']<=200000)), 1, data_set['LIMIT_BAL'])\n",
        "data_set['LIMIT_BAL'] = np.where(((data_set['LIMIT_BAL']>200000)&(data_set['LIMIT_BAL']<=300000)), 1, data_set['LIMIT_BAL'])\n",
        "data_set['LIMIT_BAL'] = np.where(((data_set['LIMIT_BAL']>300000)&(data_set['LIMIT_BAL']<=500000)), 1, data_set['LIMIT_BAL'])\n",
        "data_set['LIMIT_BAL'] = np.where(((data_set['LIMIT_BAL']>500000)&(data_set['LIMIT_BAL']<=700000)), 1, data_set['LIMIT_BAL'])\n",
        "data_set['LIMIT_BAL'] = np.where(((data_set['LIMIT_BAL']>700000)&(data_set['LIMIT_BAL']<=800000)), 1, data_set['LIMIT_BAL'])\n",
        "data_set['LIMIT_BAL'] = np.where((data_set['LIMIT_BAL']>800000), 1, data_set['LIMIT_BAL'])"
      ],
      "metadata": {
        "id": "kW5TAkSPuCbU"
      },
      "execution_count": null,
      "outputs": []
    },
    {
      "cell_type": "code",
      "source": [
        "data_set.columns"
      ],
      "metadata": {
        "colab": {
          "base_uri": "https://localhost:8080/"
        },
        "id": "rDXWrMzQuJLL",
        "outputId": "9836466d-7584-41e9-fc7e-105005bfaf5d"
      },
      "execution_count": null,
      "outputs": [
        {
          "output_type": "execute_result",
          "data": {
            "text/plain": [
              "Index([        'LIMIT_BAL',               'SEX',         'EDUCATION',\n",
              "                'MARRIAGE',               'AGE',             'PAY_0',\n",
              "                   'PAY_2',             'PAY_3',             'PAY_4',\n",
              "                   'PAY_5',             'PAY_6',   'Next_month_Bill',\n",
              "               'BILL_AMT2',         'BILL_AMT3',         'BILL_AMT4',\n",
              "               'BILL_AMT5',         'BILL_AMT6',          'PAY_AMT1',\n",
              "                'PAY_AMT2',          'PAY_AMT3',          'PAY_AMT4',\n",
              "                'PAY_AMT5',          'PAY_AMT6',    'def_next_month',\n",
              "             'LIMIT_trans',              'Male',            'Female',\n",
              "                 'Married',            'Single',            'Others',\n",
              "       'Payment_behaviour',                   1,                   2,\n",
              "                         3,                   4,                   5,\n",
              "            'billamt_mean',           'due_adv',    'due_adv_last90'],\n",
              "      dtype='object')"
            ]
          },
          "metadata": {},
          "execution_count": 151
        }
      ]
    },
    {
      "cell_type": "code",
      "source": [
        "data_set.drop(labels=['Female','Single','Others','SEX','MARRIAGE','PAY_0','PAY_2','PAY_3','PAY_4','PAY_5','PAY_6',1,2,3,4,5,'BILL_AMT2','BILL_AMT3','BILL_AMT4','BILL_AMT5','BILL_AMT6','PAY_AMT1','PAY_AMT2','PAY_AMT3','PAY_AMT4','PAY_AMT5','PAY_AMT6'], axis=1, inplace=True)"
      ],
      "metadata": {
        "id": "HcEkzzq7t2LP"
      },
      "execution_count": null,
      "outputs": []
    },
    {
      "cell_type": "code",
      "source": [
        "data_set['def_next_month']"
      ],
      "metadata": {
        "id": "hul0tKKw1EI_"
      },
      "execution_count": null,
      "outputs": []
    },
    {
      "cell_type": "code",
      "source": [
        "data_set.columns"
      ],
      "metadata": {
        "id": "nZWappACutVh"
      },
      "execution_count": null,
      "outputs": []
    },
    {
      "cell_type": "code",
      "source": [
        "Y = data_set['def_next_month']\n",
        "X = data_set\n",
        "X.drop(columns=['def_next_month'], axis=1, inplace=True)"
      ],
      "metadata": {
        "id": "OkiTtOs0veGT"
      },
      "execution_count": null,
      "outputs": []
    },
    {
      "cell_type": "code",
      "source": [
        "X_train, X_test, y_train, y_test = train_test_split(X, Y, test_size=0.30)\n",
        "print(X_train.shape, X_test.shape, y_train.shape, y_test.shape)"
      ],
      "metadata": {
        "colab": {
          "base_uri": "https://localhost:8080/"
        },
        "id": "cQOJemcfv8lb",
        "outputId": "e82f1d8d-566d-412a-96da-7d9faf036187"
      },
      "execution_count": null,
      "outputs": [
        {
          "output_type": "stream",
          "name": "stdout",
          "text": [
            "(16800, 11) (7200, 11) (16800,) (7200,)\n"
          ]
        }
      ]
    },
    {
      "cell_type": "code",
      "source": [
        "X_train.head(5)"
      ],
      "metadata": {
        "colab": {
          "base_uri": "https://localhost:8080/",
          "height": 206
        },
        "id": "m7L_9illxOlU",
        "outputId": "c3dbec86-080d-423a-fea8-e752e8fdb29f"
      },
      "execution_count": null,
      "outputs": [
        {
          "output_type": "execute_result",
          "data": {
            "text/html": [
              "<div>\n",
              "<style scoped>\n",
              "    .dataframe tbody tr th:only-of-type {\n",
              "        vertical-align: middle;\n",
              "    }\n",
              "\n",
              "    .dataframe tbody tr th {\n",
              "        vertical-align: top;\n",
              "    }\n",
              "\n",
              "    .dataframe thead th {\n",
              "        text-align: right;\n",
              "    }\n",
              "</style>\n",
              "<table border=\"1\" class=\"dataframe\">\n",
              "  <thead>\n",
              "    <tr style=\"text-align: right;\">\n",
              "      <th></th>\n",
              "      <th>LIMIT_BAL</th>\n",
              "      <th>EDUCATION</th>\n",
              "      <th>AGE</th>\n",
              "      <th>Next_month_Bill</th>\n",
              "      <th>LIMIT_trans</th>\n",
              "      <th>Male</th>\n",
              "      <th>Married</th>\n",
              "      <th>Payment_behaviour</th>\n",
              "      <th>billamt_mean</th>\n",
              "      <th>due_adv</th>\n",
              "      <th>due_adv_last90</th>\n",
              "    </tr>\n",
              "  </thead>\n",
              "  <tbody>\n",
              "    <tr>\n",
              "      <th>13903</th>\n",
              "      <td>1</td>\n",
              "      <td>1</td>\n",
              "      <td>36</td>\n",
              "      <td>15401</td>\n",
              "      <td>0.000002</td>\n",
              "      <td>1.0</td>\n",
              "      <td>0.0</td>\n",
              "      <td>-1.0</td>\n",
              "      <td>58955.4</td>\n",
              "      <td>96</td>\n",
              "      <td>55</td>\n",
              "    </tr>\n",
              "    <tr>\n",
              "      <th>6740</th>\n",
              "      <td>1</td>\n",
              "      <td>1</td>\n",
              "      <td>32</td>\n",
              "      <td>73618</td>\n",
              "      <td>0.000006</td>\n",
              "      <td>0.0</td>\n",
              "      <td>0.0</td>\n",
              "      <td>2.0</td>\n",
              "      <td>81167.4</td>\n",
              "      <td>-72490</td>\n",
              "      <td>-81239</td>\n",
              "    </tr>\n",
              "    <tr>\n",
              "      <th>16105</th>\n",
              "      <td>1</td>\n",
              "      <td>3</td>\n",
              "      <td>45</td>\n",
              "      <td>0</td>\n",
              "      <td>0.000007</td>\n",
              "      <td>0.0</td>\n",
              "      <td>1.0</td>\n",
              "      <td>0.0</td>\n",
              "      <td>2128.0</td>\n",
              "      <td>0</td>\n",
              "      <td>0</td>\n",
              "    </tr>\n",
              "    <tr>\n",
              "      <th>9117</th>\n",
              "      <td>1</td>\n",
              "      <td>1</td>\n",
              "      <td>29</td>\n",
              "      <td>1430</td>\n",
              "      <td>0.000006</td>\n",
              "      <td>1.0</td>\n",
              "      <td>0.0</td>\n",
              "      <td>-1.0</td>\n",
              "      <td>2324.0</td>\n",
              "      <td>0</td>\n",
              "      <td>0</td>\n",
              "    </tr>\n",
              "    <tr>\n",
              "      <th>15493</th>\n",
              "      <td>1</td>\n",
              "      <td>3</td>\n",
              "      <td>45</td>\n",
              "      <td>59885</td>\n",
              "      <td>0.000007</td>\n",
              "      <td>0.0</td>\n",
              "      <td>1.0</td>\n",
              "      <td>0.0</td>\n",
              "      <td>60321.4</td>\n",
              "      <td>-56854</td>\n",
              "      <td>-58494</td>\n",
              "    </tr>\n",
              "  </tbody>\n",
              "</table>\n",
              "</div>"
            ],
            "text/plain": [
              "       LIMIT_BAL  EDUCATION  AGE  ...  billamt_mean  due_adv  due_adv_last90\n",
              "13903          1          1   36  ...       58955.4       96              55\n",
              "6740           1          1   32  ...       81167.4   -72490          -81239\n",
              "16105          1          3   45  ...        2128.0        0               0\n",
              "9117           1          1   29  ...        2324.0        0               0\n",
              "15493          1          3   45  ...       60321.4   -56854          -58494\n",
              "\n",
              "[5 rows x 11 columns]"
            ]
          },
          "metadata": {},
          "execution_count": 156
        }
      ]
    },
    {
      "cell_type": "markdown",
      "source": [
        "# Aggregate encoding bases on statistical properties"
      ],
      "metadata": {
        "id": "Kbo1APGny64k"
      }
    },
    {
      "cell_type": "markdown",
      "source": [
        "X_train"
      ],
      "metadata": {
        "id": "PvtndD5Ty_Q1"
      }
    },
    {
      "cell_type": "code",
      "source": [
        "temp = X_train.groupby('LIMIT_BAL')['billamt_mean'].agg(['mean']).rename({'mean':'cust_bill_mean'}, axis=1)\n",
        "X_train = pd.merge(X_train,temp,on='LIMIT_BAL',how='left')\n",
        "X_train['cust_bill_mean']"
      ],
      "metadata": {
        "id": "K5Mu2iSpxS1D"
      },
      "execution_count": null,
      "outputs": []
    },
    {
      "cell_type": "code",
      "source": [
        "temp = X_train.groupby('LIMIT_BAL')['billamt_mean'].agg(['std']).rename({'std':'cust_bill_std'}, axis=1)\n",
        "X_train = pd.merge(X_train,temp,on='LIMIT_BAL',how='left')\n",
        "X_train['cust_bill_std']"
      ],
      "metadata": {
        "id": "t0moZT-_xjZd"
      },
      "execution_count": null,
      "outputs": []
    },
    {
      "cell_type": "code",
      "source": [
        "temp = X_train.groupby('LIMIT_BAL')['due_adv'].agg(['mean']).rename({'mean':'due_adv_mean'}, axis=1)\n",
        "X_train = pd.merge(X_train,temp,on='LIMIT_BAL',how='left')\n",
        "X_train['due_adv_mean']"
      ],
      "metadata": {
        "id": "u7uKuyTxyB1C"
      },
      "execution_count": null,
      "outputs": []
    },
    {
      "cell_type": "code",
      "source": [
        "temp = X_train.groupby('LIMIT_BAL')['due_adv'].agg(['std']).rename({'std':'due_adv_std'}, axis=1)\n",
        "X_train = pd.merge(X_train,temp,on='LIMIT_BAL',how='left')\n",
        "X_train['due_adv_std']"
      ],
      "metadata": {
        "id": "takSShg6ySFF"
      },
      "execution_count": null,
      "outputs": []
    },
    {
      "cell_type": "code",
      "source": [
        "temp = X_train.groupby('LIMIT_BAL')['due_adv_last90'].agg(['mean']).rename({'mean':'due_adv_last90_mean'}, axis=1)\n",
        "X_train = pd.merge(X_train,temp,on='LIMIT_BAL',how='left')\n",
        "X_train['due_adv_last90_mean']"
      ],
      "metadata": {
        "id": "x-i5MSTjybyx"
      },
      "execution_count": null,
      "outputs": []
    },
    {
      "cell_type": "code",
      "source": [
        "temp = X_train.groupby('LIMIT_BAL')['due_adv_last90'].agg(['std']).rename({'std':'due_adv_last90_std'}, axis=1)\n",
        "X_train = pd.merge(X_train,temp,on='LIMIT_BAL',how='left')\n",
        "X_train['due_adv_last90_std']"
      ],
      "metadata": {
        "id": "oy1AEVhlyod5"
      },
      "execution_count": null,
      "outputs": []
    },
    {
      "cell_type": "markdown",
      "source": [
        "X_test"
      ],
      "metadata": {
        "id": "ApoXHoy0zCrV"
      }
    },
    {
      "cell_type": "code",
      "source": [
        "temp = X_test.groupby('LIMIT_BAL')['billamt_mean'].agg(['mean']).rename({'mean':'cust_bill_mean'}, axis=1)\n",
        "X_test = pd.merge(X_test,temp,on='LIMIT_BAL',how='left')\n",
        "X_test['cust_bill_mean']"
      ],
      "metadata": {
        "id": "pfGqvlUBzFl3"
      },
      "execution_count": null,
      "outputs": []
    },
    {
      "cell_type": "code",
      "source": [
        "temp = X_test.groupby('LIMIT_BAL')['billamt_mean'].agg(['std']).rename({'std':'cust_bill_std'}, axis=1)\n",
        "X_test = pd.merge(X_test,temp,on='LIMIT_BAL',how='left')\n",
        "X_test['cust_bill_std']"
      ],
      "metadata": {
        "id": "VKykJlBPzJB9"
      },
      "execution_count": null,
      "outputs": []
    },
    {
      "cell_type": "code",
      "source": [
        "temp = X_test.groupby('LIMIT_BAL')['due_adv'].agg(['mean']).rename({'mean':'due_adv_mean'}, axis=1)\n",
        "X_test = pd.merge(X_test,temp,on='LIMIT_BAL',how='left')\n",
        "X_test['due_adv_mean']"
      ],
      "metadata": {
        "id": "pKTcRU3czJMN"
      },
      "execution_count": null,
      "outputs": []
    },
    {
      "cell_type": "code",
      "source": [
        "temp = X_test.groupby('LIMIT_BAL')['due_adv'].agg(['std']).rename({'std':'due_adv_std'}, axis=1)\n",
        "X_test = pd.merge(X_test,temp,on='LIMIT_BAL',how='left')\n",
        "X_test['due_adv_std']"
      ],
      "metadata": {
        "id": "-qa7msMNzJWH"
      },
      "execution_count": null,
      "outputs": []
    },
    {
      "cell_type": "code",
      "source": [
        "temp = X_test.groupby('LIMIT_BAL')['due_adv_last90'].agg(['mean']).rename({'mean':'due_adv_last90_mean'}, axis=1)\n",
        "X_test = pd.merge(X_test,temp,on='LIMIT_BAL',how='left')\n",
        "X_test['due_adv_last90_mean']"
      ],
      "metadata": {
        "id": "jWUULrUxzOZ1"
      },
      "execution_count": null,
      "outputs": []
    },
    {
      "cell_type": "code",
      "source": [
        "temp = X_test.groupby('LIMIT_BAL')['due_adv_last90'].agg(['std']).rename({'std':'due_adv_last90_std'}, axis=1)\n",
        "X_test = pd.merge(X_test,temp,on='LIMIT_BAL',how='left')\n",
        "X_test['due_adv_last90_std']"
      ],
      "metadata": {
        "id": "nRfiFnzjzSmi"
      },
      "execution_count": null,
      "outputs": []
    },
    {
      "cell_type": "code",
      "source": [
        "X_train.head(5)"
      ],
      "metadata": {
        "id": "4t9OMLVqz3pT"
      },
      "execution_count": null,
      "outputs": []
    },
    {
      "cell_type": "code",
      "source": [
        "# X_train['billamt_mean'] = (X_train['billamt_mean'] - X_train['billamt_mean'].min())/(X_train['billamt_mean'].max()-X_train['billamt_mean'].min())\n",
        "# X_train['due_adv'] = (X_train['due_adv'] - X_train['due_adv'].min())/(X_train['due_adv'].max()-X_train['due_adv'].min())\n",
        "# X_train['due_adv_last90'] = (X_train['due_adv_last90'] - X_train['due_adv_last90'].min())/(X_train['due_adv_last90'].max()-X_train['due_adv_last90'].min())\n",
        "# X_train['cust_bill_mean'] = (X_train['cust_bill_mean'] - X_train['cust_bill_mean'].min())/(X_train['cust_bill_mean'].max()-X_train['cust_bill_mean'].min())\n",
        "# X_train['due_adv_mean'] = (X_train['due_adv_mean'] - X_train['due_adv_mean'].min())/(X_train['due_adv_last90'].max()-X_train['due_adv_last90'].min())\n",
        "# X_train['due_adv_last90'] = (X_train['due_adv_last90'] - X_train['due_adv_last90'].min())/(X_train['due_adv_last90'].max()-X_train['due_adv_last90'].min())\n",
        "# X_train['due_adv_last90'] = (X_train['due_adv_last90'] - X_train['due_adv_last90'].min())/(X_train['due_adv_last90'].max()-X_train['due_adv_last90'].min())\n",
        "# X_train['due_adv_last90'] = (X_train['due_adv_last90'] - X_train['due_adv_last90'].min())/(X_train['due_adv_last90'].max()-X_train['due_adv_last90'].min())\n"
      ],
      "metadata": {
        "id": "LGxeud172Q2d"
      },
      "execution_count": null,
      "outputs": []
    },
    {
      "cell_type": "code",
      "source": [
        "sc = StandardScaler()\n",
        "sc.fit(X_train)"
      ],
      "metadata": {
        "colab": {
          "base_uri": "https://localhost:8080/"
        },
        "id": "39JnYizP3IOl",
        "outputId": "9baa905b-a85d-4793-edfa-932c8893011b"
      },
      "execution_count": null,
      "outputs": [
        {
          "output_type": "execute_result",
          "data": {
            "text/plain": [
              "StandardScaler()"
            ]
          },
          "metadata": {},
          "execution_count": 175
        }
      ]
    },
    {
      "cell_type": "code",
      "source": [
        "X_train_normalized = sc.transform(X_train)\n",
        "X_test_normalized = sc.transform(X_test)"
      ],
      "metadata": {
        "id": "1_4DIw883au9"
      },
      "execution_count": null,
      "outputs": []
    },
    {
      "cell_type": "code",
      "source": [
        "X_train_normalized = pd.DataFrame(X_train_normalized, columns=X_train.columns)\n",
        "X_test_normalized = pd.DataFrame(X_test_normalized, columns=X_test.columns)"
      ],
      "metadata": {
        "id": "GtprE1Ph3f8j"
      },
      "execution_count": null,
      "outputs": []
    },
    {
      "cell_type": "code",
      "source": [
        "X_train_normalized.head(10)"
      ],
      "metadata": {
        "id": "SxmzC8jJ3iX_"
      },
      "execution_count": null,
      "outputs": []
    },
    {
      "cell_type": "code",
      "source": [
        "X_test_normalized.head(10)"
      ],
      "metadata": {
        "id": "t-zeEhtM3tAr"
      },
      "execution_count": null,
      "outputs": []
    },
    {
      "cell_type": "code",
      "source": [
        "xgb_instance = xgb.XGBClassifier() \n",
        "\n",
        "model_for_feature_selection = xgb_instance.fit(X_train_normalized, y_train)"
      ],
      "metadata": {
        "id": "BO6eE5UB3yci"
      },
      "execution_count": null,
      "outputs": []
    },
    {
      "cell_type": "code",
      "source": [
        "# check the importances - you can also use SHAP values\n",
        "feature_importance = {'Feature':X_train_normalized.columns,'Importance':model_for_feature_selection.feature_importances_}\n",
        "feature_importance = pd.DataFrame(feature_importance)\n",
        "feature_importance.sort_values(\"Importance\", inplace=True,ascending=False)\n",
        "feature_importance"
      ],
      "metadata": {
        "id": "JWvb0Qja37b8"
      },
      "execution_count": null,
      "outputs": []
    },
    {
      "cell_type": "code",
      "source": [
        "shap.initjs()"
      ],
      "metadata": {
        "id": "pKdsleh55B4r"
      },
      "execution_count": null,
      "outputs": []
    },
    {
      "cell_type": "code",
      "source": [
        "shap_values = shap.TreeExplainer(xgb_instance, feature_perturbation='interventional').shap_values(X_train_normalized)"
      ],
      "metadata": {
        "id": "PjrkWmQH4F2x"
      },
      "execution_count": null,
      "outputs": []
    },
    {
      "cell_type": "code",
      "source": [
        "explainer = shap.TreeExplainer(xgb_instance)\n",
        "shap_values = explainer.shap_values(X_train_normalized)"
      ],
      "metadata": {
        "id": "SpdmNazc5H1k"
      },
      "execution_count": null,
      "outputs": []
    },
    {
      "cell_type": "code",
      "source": [
        "shap_values = shap.TreeExplainer(xgb_instance).shap_values(X_train)\n",
        "shap.summary_plot(shap_values, X_train, plot_type='bar')"
      ],
      "metadata": {
        "colab": {
          "base_uri": "https://localhost:8080/",
          "height": 516
        },
        "id": "BNU39bXM5Mf6",
        "outputId": "86295d78-2569-497c-91e0-ce083f0e1169"
      },
      "execution_count": null,
      "outputs": [
        {
          "output_type": "display_data",
          "data": {
            "image/png": "[encoded data removed]",
            "text/plain": [
              "<Figure size 576x597.6 with 1 Axes>"
            ]
          },
          "metadata": {
            "needs_background": "light"
          }
        }
      ]
    },
    {
      "cell_type": "code",
      "source": [
        "shap.summary_plot(shap_values, X_train)"
      ],
      "metadata": {
        "colab": {
          "base_uri": "https://localhost:8080/",
          "height": 520
        },
        "id": "ooFg9rU45aX1",
        "outputId": "fe7aa14a-31a0-4a67-bf86-24053e36b0cf"
      },
      "execution_count": null,
      "outputs": [
        {
          "output_type": "display_data",
          "data": {
            "image/png": "[encoded data removed]",
            "text/plain": [
              "<Figure size 576x597.6 with 2 Axes>"
            ]
          },
          "metadata": {
            "needs_background": "light"
          }
        }
      ]
    },
    {
      "cell_type": "markdown",
      "source": [
        "# LOGISTIC REGRESSION"
      ],
      "metadata": {
        "id": "rUXAJCFs5s2n"
      }
    },
    {
      "cell_type": "code",
      "source": [
        "lr_model = LogisticRegression()\n",
        "reult = lr_model.fit(X_train_normalized, y_train)"
      ],
      "metadata": {
        "id": "J4OWs17e5ryg"
      },
      "execution_count": null,
      "outputs": []
    },
    {
      "cell_type": "code",
      "source": [
        "y_pred = lr_model.predict(X_test_normalized)\n",
        "y_pred"
      ],
      "metadata": {
        "colab": {
          "base_uri": "https://localhost:8080/"
        },
        "id": "sI4ynX7v50LZ",
        "outputId": "2676e53d-e89d-4323-e4d9-8feaa5ea09ad"
      },
      "execution_count": null,
      "outputs": [
        {
          "output_type": "execute_result",
          "data": {
            "text/plain": [
              "array([0, 0, 1, ..., 0, 0, 0], dtype=int64)"
            ]
          },
          "metadata": {},
          "execution_count": 213
        }
      ]
    },
    {
      "cell_type": "code",
      "source": [
        "y_pred_proba = lr_model.predict_proba(X_test_normalized)[::,1]\n",
        "fpr, tpr, _ = metrics.roc_curve(y_test,  y_pred_proba)"
      ],
      "metadata": {
        "id": "Q7MbgKcy6pFU"
      },
      "execution_count": null,
      "outputs": []
    },
    {
      "cell_type": "code",
      "source": [
        "matrix = confusion_matrix(y_test, y_pred)\n",
        "sns.heatmap(matrix, annot=True, fmt=\"d\")\n",
        "pt.title('Confusion Matrix')\n",
        "pt.xlabel('Predicted')\n",
        "pt.ylabel('True')\n",
        "print(classification_report(y_test, y_pred))"
      ],
      "metadata": {
        "colab": {
          "base_uri": "https://localhost:8080/",
          "height": 451
        },
        "id": "gGdQ-9un51Vq",
        "outputId": "5bd7c31d-56a7-4885-94e0-bdbedadfe772"
      },
      "execution_count": null,
      "outputs": [
        {
          "output_type": "stream",
          "name": "stdout",
          "text": [
            "              precision    recall  f1-score   support\n",
            "\n",
            "           0       0.80      0.97      0.88      5589\n",
            "           1       0.65      0.17      0.27      1611\n",
            "\n",
            "    accuracy                           0.79      7200\n",
            "   macro avg       0.73      0.57      0.58      7200\n",
            "weighted avg       0.77      0.79      0.74      7200\n",
            "\n"
          ]
        },
        {
          "output_type": "display_data",
          "data": {
            "image/png": "[encoded data removed]",
            "text/plain": [
              "<Figure size 432x288 with 2 Axes>"
            ]
          },
          "metadata": {
            "needs_background": "light"
          }
        }
      ]
    },
    {
      "cell_type": "markdown",
      "source": [
        "ROC CURVE"
      ],
      "metadata": {
        "id": "6-VzsjL86_kS"
      }
    },
    {
      "cell_type": "code",
      "source": [
        "pt.plot(fpr,tpr)\n",
        "pt.ylabel('True Positive Rate')\n",
        "pt.xlabel('False Positive Rate')\n",
        "pt.show()"
      ],
      "metadata": {
        "colab": {
          "base_uri": "https://localhost:8080/",
          "height": 279
        },
        "id": "GE6c8hba60Yx",
        "outputId": "fdc1c49e-ade8-46bd-ac67-5592836c1d81"
      },
      "execution_count": null,
      "outputs": [
        {
          "output_type": "display_data",
          "data": {
            "image/png": "[encoded data removed]",
            "text/plain": [
              "<Figure size 432x288 with 1 Axes>"
            ]
          },
          "metadata": {
            "needs_background": "light"
          }
        }
      ]
    },
    {
      "cell_type": "markdown",
      "source": [
        "AUC "
      ],
      "metadata": {
        "id": "3Riwtj937Oe3"
      }
    },
    {
      "cell_type": "code",
      "source": [
        "auc = metrics.roc_auc_score(y_test, y_pred_proba)\n"
      ],
      "metadata": {
        "id": "GJWVNeCp7BhZ"
      },
      "execution_count": null,
      "outputs": []
    },
    {
      "cell_type": "code",
      "source": [
        "#create ROC curve\n",
        "pt.plot(fpr,tpr,label=\"AUC=\"+str(auc))\n",
        "pt.ylabel('True Positive Rate')\n",
        "pt.xlabel('False Positive Rate')\n",
        "pt.legend(loc=4)\n",
        "pt.show()"
      ],
      "metadata": {
        "colab": {
          "base_uri": "https://localhost:8080/",
          "height": 279
        },
        "id": "tezYSAVJ7Kua",
        "outputId": "b2baf485-0051-42d5-8865-a4467e265c9e"
      },
      "execution_count": null,
      "outputs": [
        {
          "output_type": "display_data",
          "data": {
            "image/png": "[encoded data removed]",
            "text/plain": [
              "<Figure size 432x288 with 1 Axes>"
            ]
          },
          "metadata": {
            "needs_background": "light"
          }
        }
      ]
    },
    {
      "cell_type": "code",
      "source": [
        "from sklearn .model_selection import KFold\n",
        "model = LogisticRegression()\n",
        "kfold_validation = KFold(10)\n",
        "\n",
        "import numpy as np\n",
        "from sklearn.model_selection import cross_val_score\n",
        "results = cross_val_score(model, X_test_normalized, y_test, cv=kfold_validation)\n",
        "print(results)\n",
        "print(np.mean(results))"
      ],
      "metadata": {
        "colab": {
          "base_uri": "https://localhost:8080/"
        },
        "id": "fRTCZXca8M7E",
        "outputId": "265c4dff-5c48-4532-f26c-4b8adc53c8c0"
      },
      "execution_count": null,
      "outputs": [
        {
          "output_type": "stream",
          "name": "stdout",
          "text": [
            "[0.76805556 0.80277778 0.81944444 0.79861111 0.77777778 0.80138889\n",
            " 0.81111111 0.81527778 0.78194444 0.77638889]\n",
            "0.7952777777777778\n"
          ]
        }
      ]
    },
    {
      "cell_type": "markdown",
      "source": [
        "# XGBOOST"
      ],
      "metadata": {
        "id": "KSYo1h3K7V3q"
      }
    },
    {
      "cell_type": "code",
      "source": [
        "params = {\n",
        "            'objective':'binary:logistic',\n",
        "            'max_depth': 6,\n",
        "            'learning_rate': 1.0,\n",
        "            'n_estimators':100\n",
        "        }\n",
        "\n",
        "xgb_clf = XGBClassifier(**params)\n",
        "\n",
        "xgb_clf.fit(X_train, y_train)"
      ],
      "metadata": {
        "colab": {
          "base_uri": "https://localhost:8080/"
        },
        "id": "YOYVRR0p7ZTA",
        "outputId": "de5b19dc-6457-4b59-a6ef-29d475aab8d4"
      },
      "execution_count": null,
      "outputs": [
        {
          "output_type": "execute_result",
          "data": {
            "text/plain": [
              "XGBClassifier(learning_rate=1.0, max_depth=6)"
            ]
          },
          "metadata": {},
          "execution_count": 208
        }
      ]
    },
    {
      "cell_type": "code",
      "source": [
        "import xgboost as xgb\n",
        "from sklearn.metrics import roc_auc_score\n",
        "table = pd.DataFrame(columns = [\"Num Trees\", \"Learning_rate\", \"max_depth\", \"AUC_Train\", \"AUC_Test\"])\n",
        "\n",
        "row = 0\n",
        "\n",
        "for num_trees in [50, 100]:\n",
        "  for lr in [0.1, 0.2, 0.3]:\n",
        "    for num_layers in [3,5,7]:\n",
        "    \n",
        "        xgb_clf = XGBClassifier(n_estimators=num_trees, learning_rate=lr, max_depth=num_layers)\n",
        "        model = xgb_clf.fit(X_train, y_train)\n",
        "\n",
        "        table.loc[row,\"Num Trees\"] = num_trees\n",
        "        table.loc[row,\"learning_rate\"] = lr\n",
        "        table.loc[row, 'max_depth'] = num_layers\n",
        "        table.loc[row,\"AUC_Train\"] = roc_auc_score(y_train, model.predict_proba(X_train)[:,1])\n",
        "        table.loc[row,\"AUC_Test\"] = roc_auc_score(y_test, model.predict_proba(X_test)[:,1])\n",
        "\n",
        "        row = row + 1\n",
        "\n",
        "table"
      ],
      "metadata": {
        "colab": {
          "base_uri": "https://localhost:8080/",
          "height": 614
        },
        "id": "wXrK9Uk-7v1R",
        "outputId": "ba9a0a13-6b6e-4278-e32d-8e132c60e507"
      },
      "execution_count": null,
      "outputs": [
        {
          "output_type": "execute_result",
          "data": {
            "text/html": [
              "<div>\n",
              "<style scoped>\n",
              "    .dataframe tbody tr th:only-of-type {\n",
              "        vertical-align: middle;\n",
              "    }\n",
              "\n",
              "    .dataframe tbody tr th {\n",
              "        vertical-align: top;\n",
              "    }\n",
              "\n",
              "    .dataframe thead th {\n",
              "        text-align: right;\n",
              "    }\n",
              "</style>\n",
              "<table border=\"1\" class=\"dataframe\">\n",
              "  <thead>\n",
              "    <tr style=\"text-align: right;\">\n",
              "      <th></th>\n",
              "      <th>Num Trees</th>\n",
              "      <th>Learning_rate</th>\n",
              "      <th>max_depth</th>\n",
              "      <th>AUC_Train</th>\n",
              "      <th>AUC_Test</th>\n",
              "      <th>learning_rate</th>\n",
              "    </tr>\n",
              "  </thead>\n",
              "  <tbody>\n",
              "    <tr>\n",
              "      <th>0</th>\n",
              "      <td>50</td>\n",
              "      <td>NaN</td>\n",
              "      <td>3</td>\n",
              "      <td>0.732765</td>\n",
              "      <td>0.725005</td>\n",
              "      <td>0.1</td>\n",
              "    </tr>\n",
              "    <tr>\n",
              "      <th>1</th>\n",
              "      <td>50</td>\n",
              "      <td>NaN</td>\n",
              "      <td>5</td>\n",
              "      <td>0.761534</td>\n",
              "      <td>0.728017</td>\n",
              "      <td>0.1</td>\n",
              "    </tr>\n",
              "    <tr>\n",
              "      <th>2</th>\n",
              "      <td>50</td>\n",
              "      <td>NaN</td>\n",
              "      <td>7</td>\n",
              "      <td>0.810893</td>\n",
              "      <td>0.724514</td>\n",
              "      <td>0.1</td>\n",
              "    </tr>\n",
              "    <tr>\n",
              "      <th>3</th>\n",
              "      <td>50</td>\n",
              "      <td>NaN</td>\n",
              "      <td>3</td>\n",
              "      <td>0.748914</td>\n",
              "      <td>0.726756</td>\n",
              "      <td>0.2</td>\n",
              "    </tr>\n",
              "    <tr>\n",
              "      <th>4</th>\n",
              "      <td>50</td>\n",
              "      <td>NaN</td>\n",
              "      <td>5</td>\n",
              "      <td>0.791771</td>\n",
              "      <td>0.725178</td>\n",
              "      <td>0.2</td>\n",
              "    </tr>\n",
              "    <tr>\n",
              "      <th>5</th>\n",
              "      <td>50</td>\n",
              "      <td>NaN</td>\n",
              "      <td>7</td>\n",
              "      <td>0.852846</td>\n",
              "      <td>0.720037</td>\n",
              "      <td>0.2</td>\n",
              "    </tr>\n",
              "    <tr>\n",
              "      <th>6</th>\n",
              "      <td>50</td>\n",
              "      <td>NaN</td>\n",
              "      <td>3</td>\n",
              "      <td>0.761302</td>\n",
              "      <td>0.726328</td>\n",
              "      <td>0.3</td>\n",
              "    </tr>\n",
              "    <tr>\n",
              "      <th>7</th>\n",
              "      <td>50</td>\n",
              "      <td>NaN</td>\n",
              "      <td>5</td>\n",
              "      <td>0.812971</td>\n",
              "      <td>0.723534</td>\n",
              "      <td>0.3</td>\n",
              "    </tr>\n",
              "    <tr>\n",
              "      <th>8</th>\n",
              "      <td>50</td>\n",
              "      <td>NaN</td>\n",
              "      <td>7</td>\n",
              "      <td>0.88231</td>\n",
              "      <td>0.710928</td>\n",
              "      <td>0.3</td>\n",
              "    </tr>\n",
              "    <tr>\n",
              "      <th>9</th>\n",
              "      <td>100</td>\n",
              "      <td>NaN</td>\n",
              "      <td>3</td>\n",
              "      <td>0.749011</td>\n",
              "      <td>0.727578</td>\n",
              "      <td>0.1</td>\n",
              "    </tr>\n",
              "    <tr>\n",
              "      <th>10</th>\n",
              "      <td>100</td>\n",
              "      <td>NaN</td>\n",
              "      <td>5</td>\n",
              "      <td>0.793239</td>\n",
              "      <td>0.728611</td>\n",
              "      <td>0.1</td>\n",
              "    </tr>\n",
              "    <tr>\n",
              "      <th>11</th>\n",
              "      <td>100</td>\n",
              "      <td>NaN</td>\n",
              "      <td>7</td>\n",
              "      <td>0.85518</td>\n",
              "      <td>0.720827</td>\n",
              "      <td>0.1</td>\n",
              "    </tr>\n",
              "    <tr>\n",
              "      <th>12</th>\n",
              "      <td>100</td>\n",
              "      <td>NaN</td>\n",
              "      <td>3</td>\n",
              "      <td>0.77247</td>\n",
              "      <td>0.727378</td>\n",
              "      <td>0.2</td>\n",
              "    </tr>\n",
              "    <tr>\n",
              "      <th>13</th>\n",
              "      <td>100</td>\n",
              "      <td>NaN</td>\n",
              "      <td>5</td>\n",
              "      <td>0.840115</td>\n",
              "      <td>0.72154</td>\n",
              "      <td>0.2</td>\n",
              "    </tr>\n",
              "    <tr>\n",
              "      <th>14</th>\n",
              "      <td>100</td>\n",
              "      <td>NaN</td>\n",
              "      <td>7</td>\n",
              "      <td>0.90743</td>\n",
              "      <td>0.711291</td>\n",
              "      <td>0.2</td>\n",
              "    </tr>\n",
              "    <tr>\n",
              "      <th>15</th>\n",
              "      <td>100</td>\n",
              "      <td>NaN</td>\n",
              "      <td>3</td>\n",
              "      <td>0.788797</td>\n",
              "      <td>0.725687</td>\n",
              "      <td>0.3</td>\n",
              "    </tr>\n",
              "    <tr>\n",
              "      <th>16</th>\n",
              "      <td>100</td>\n",
              "      <td>NaN</td>\n",
              "      <td>5</td>\n",
              "      <td>0.87389</td>\n",
              "      <td>0.717001</td>\n",
              "      <td>0.3</td>\n",
              "    </tr>\n",
              "    <tr>\n",
              "      <th>17</th>\n",
              "      <td>100</td>\n",
              "      <td>NaN</td>\n",
              "      <td>7</td>\n",
              "      <td>0.941345</td>\n",
              "      <td>0.70305</td>\n",
              "      <td>0.3</td>\n",
              "    </tr>\n",
              "  </tbody>\n",
              "</table>\n",
              "</div>"
            ],
            "text/plain": [
              "   Num Trees Learning_rate max_depth AUC_Train  AUC_Test  learning_rate\n",
              "0         50           NaN         3  0.732765  0.725005            0.1\n",
              "1         50           NaN         5  0.761534  0.728017            0.1\n",
              "2         50           NaN         7  0.810893  0.724514            0.1\n",
              "3         50           NaN         3  0.748914  0.726756            0.2\n",
              "4         50           NaN         5  0.791771  0.725178            0.2\n",
              "5         50           NaN         7  0.852846  0.720037            0.2\n",
              "6         50           NaN         3  0.761302  0.726328            0.3\n",
              "7         50           NaN         5  0.812971  0.723534            0.3\n",
              "8         50           NaN         7   0.88231  0.710928            0.3\n",
              "9        100           NaN         3  0.749011  0.727578            0.1\n",
              "10       100           NaN         5  0.793239  0.728611            0.1\n",
              "11       100           NaN         7   0.85518  0.720827            0.1\n",
              "12       100           NaN         3   0.77247  0.727378            0.2\n",
              "13       100           NaN         5  0.840115   0.72154            0.2\n",
              "14       100           NaN         7   0.90743  0.711291            0.2\n",
              "15       100           NaN         3  0.788797  0.725687            0.3\n",
              "16       100           NaN         5   0.87389  0.717001            0.3\n",
              "17       100           NaN         7  0.941345   0.70305            0.3"
            ]
          },
          "metadata": {},
          "execution_count": 209
        }
      ]
    },
    {
      "cell_type": "markdown",
      "source": [
        "K FOLD CROSS VALIDATION FOR TEST DATA"
      ],
      "metadata": {
        "id": "_mVIlk4u8AA5"
      }
    },
    {
      "cell_type": "code",
      "source": [
        "from sklearn .model_selection import KFold\n",
        "model = XGBClassifier()\n",
        "kfold_validation = KFold(10)\n",
        "\n",
        "import numpy as np\n",
        "from sklearn.model_selection import cross_val_score\n",
        "results = cross_val_score(model, X_test, y_test, cv=kfold_validation)\n",
        "print(results)\n",
        "print(np.mean(results))"
      ],
      "metadata": {
        "colab": {
          "base_uri": "https://localhost:8080/"
        },
        "id": "tYpHhwmo77gj",
        "outputId": "d9b18960-edac-495a-c2e2-ee2f0dde437a"
      },
      "execution_count": null,
      "outputs": [
        {
          "output_type": "stream",
          "name": "stdout",
          "text": [
            "[0.77638889 0.79722222 0.82083333 0.80416667 0.78055556 0.81111111\n",
            " 0.81527778 0.81805556 0.77916667 0.78055556]\n",
            "0.7983333333333333\n"
          ]
        }
      ]
    }
  ]
}